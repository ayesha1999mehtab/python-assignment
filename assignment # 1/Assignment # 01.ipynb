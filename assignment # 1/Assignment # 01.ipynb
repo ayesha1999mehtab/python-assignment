{
 "cells": [
  {
   "cell_type": "code",
   "execution_count": 1,
   "id": "cab84c3a",
   "metadata": {},
   "outputs": [
    {
     "name": "stdout",
     "output_type": "stream",
     "text": [
      "twinkle, twinkle, little star, \n",
      "\tHow I wonder what you are!\n",
      "\t\tUp above the world so high,\n",
      "\t\tLike a diamond in the sky.\n",
      "twinkle, twinkle, little star,\n",
      "\tHow I wonder what you are!\n"
     ]
    }
   ],
   "source": [
    "#Q1\n",
    "\n",
    "print (\"twinkle, twinkle, little star, \\n\\tHow I wonder what you are!\\n\\t\\tUp above the world so high,\\n\\t\\tLike a diamond in the sky.\\ntwinkle, twinkle, little star,\\n\\tHow I wonder what you are!\");"
   ]
  },
  {
   "cell_type": "code",
   "execution_count": 2,
   "id": "b7f7d1fc",
   "metadata": {},
   "outputs": [
    {
     "name": "stdout",
     "output_type": "stream",
     "text": [
      "python version\n",
      "3.9.7 (default, Sep 16 2021, 16:59:28) [MSC v.1916 64 bit (AMD64)]\n",
      "python info\n",
      "sys.version_info(major=3, minor=9, micro=7, releaselevel='final', serial=0)\n"
     ]
    }
   ],
   "source": [
    "#Q2\n",
    "\n",
    "import sys\n",
    "print(\"python version\");\n",
    "print (sys.version);\n",
    "print (\"python info\");\n",
    "print(sys.version_info);\n"
   ]
  },
  {
   "cell_type": "code",
   "execution_count": 3,
   "id": "9edeee1a",
   "metadata": {},
   "outputs": [
    {
     "name": "stdout",
     "output_type": "stream",
     "text": [
      "current date and time is:\n",
      "22-01-01  17:11:25\n"
     ]
    }
   ],
   "source": [
    "#Q3\n",
    "\n",
    "import datetime\n",
    "\n",
    "now = datetime.datetime.now();\n",
    "print (\"current date and time is:\");\n",
    "print (now.strftime(\"%y-%m-%d  %H:%M:%S\"));"
   ]
  },
  {
   "cell_type": "code",
   "execution_count": 4,
   "id": "8b7ed680",
   "metadata": {
    "scrolled": true
   },
   "outputs": [
    {
     "name": "stdout",
     "output_type": "stream",
     "text": [
      "enter the radius of the circle:10\n",
      "area of the circle is:314.1592653589793\n"
     ]
    }
   ],
   "source": [
    "#Q4\n",
    "\n",
    "import math\n",
    "radius = float(input(\"enter the radius of the circle:\"))\n",
    "area = math.pi*radius*radius\n",
    "print (\"area of the circle is:{0}\".format(area))"
   ]
  },
  {
   "cell_type": "code",
   "execution_count": 5,
   "id": "60d4e497",
   "metadata": {},
   "outputs": [
    {
     "name": "stdout",
     "output_type": "stream",
     "text": [
      "Enter your first name: Ayesha\n",
      "Enter your last name: Mehtab\n",
      "Mehtab Ayesha\n"
     ]
    }
   ],
   "source": [
    "#Q5\n",
    "\n",
    "firstname = input(\"Enter your first name: \");\n",
    "lastname = input(\"Enter your last name: \");\n",
    "print(lastname + \" \" + firstname);"
   ]
  },
  {
   "cell_type": "code",
   "execution_count": 10,
   "id": "98cf7005",
   "metadata": {},
   "outputs": [
    {
     "name": "stdout",
     "output_type": "stream",
     "text": [
      "Enter the first number:46\n",
      "Enter the second number: 52\n",
      "98.0\n"
     ]
    }
   ],
   "source": [
    "#Q6\n",
    "\n",
    "num1 = input(\"Enter the first number:\");\n",
    "num2 = input(\"Enter the second number: \" );\n",
    "sum = float(num1) + float(num2);\n",
    "print(sum);"
   ]
  },
  {
   "cell_type": "code",
   "execution_count": null,
   "id": "c063f018",
   "metadata": {},
   "outputs": [],
   "source": []
  }
 ],
 "metadata": {
  "kernelspec": {
   "display_name": "Python 3 (ipykernel)",
   "language": "python",
   "name": "python3"
  },
  "language_info": {
   "codemirror_mode": {
    "name": "ipython",
    "version": 3
   },
   "file_extension": ".py",
   "mimetype": "text/x-python",
   "name": "python",
   "nbconvert_exporter": "python",
   "pygments_lexer": "ipython3",
   "version": "3.9.7"
  }
 },
 "nbformat": 4,
 "nbformat_minor": 5
}
